{
 "cells": [
  {
   "cell_type": "markdown",
   "metadata": {},
   "source": [
    "# Comprobación de la instalación de ``TensorFlow`` y ``Keras``."
   ]
  },
  {
   "cell_type": "markdown",
   "metadata": {},
   "source": [
    "Para comenzar, realizamos el importado de estas dos librerías y mostramos su versión para comprobar la correcta instalación de las mismas."
   ]
  },
  {
   "cell_type": "code",
   "execution_count": 1,
   "metadata": {},
   "outputs": [
    {
     "data": {
      "text/plain": [
       "'2.9.1'"
      ]
     },
     "execution_count": 1,
     "metadata": {},
     "output_type": "execute_result"
    }
   ],
   "source": [
    "import tensorflow\n",
    "tensorflow.__version__"
   ]
  },
  {
   "cell_type": "code",
   "execution_count": 2,
   "metadata": {},
   "outputs": [
    {
     "data": {
      "text/plain": [
       "'2.9.0'"
      ]
     },
     "execution_count": 2,
     "metadata": {},
     "output_type": "execute_result"
    }
   ],
   "source": [
    "import keras\n",
    "keras.__version__"
   ]
  },
  {
   "cell_type": "markdown",
   "metadata": {},
   "source": [
    "# Carga y reestructurado del *MNIST Data Set*"
   ]
  },
  {
   "cell_type": "markdown",
   "metadata": {},
   "source": [
    "Comenzamos realizando la carga del *MNIST Data Set* disponible desde la propia librería ``Keras``. Mostramos por pantalla las dimensiones de los conjuntos cargados para comprobar que tratamos con matrices en tres dimensiones. Esto es así porque cada imágen del conjunto de datos cuenta con 28 píxeles de altura y 28 de ancho. Realizaremos un proceso de \"aplanado\" (``flatten``) para representar este conjunto de datos en forma de tabla."
   ]
  },
  {
   "cell_type": "code",
   "execution_count": 3,
   "metadata": {},
   "outputs": [
    {
     "name": "stdout",
     "output_type": "stream",
     "text": [
      "(60000, 28, 28)\n",
      "(60000,)\n",
      "(10000, 28, 28)\n",
      "(10000,)\n"
     ]
    }
   ],
   "source": [
    "(X_train, y_train), (X_test, y_test) = keras.datasets.mnist.load_data()\n",
    "\n",
    "print(X_train.shape)\n",
    "print(y_train.shape)\n",
    "print(X_test.shape)\n",
    "print(y_test.shape)"
   ]
  },
  {
   "cell_type": "markdown",
   "metadata": {},
   "source": [
    "Obtenemos las clases del dataset (10 clases, dígitos entre 0 y 9) y el número de instancias por clase. En este caso, todas las clases tienen alrededor de 6000 instancias."
   ]
  },
  {
   "cell_type": "code",
   "execution_count": 4,
   "metadata": {},
   "outputs": [
    {
     "name": "stdout",
     "output_type": "stream",
     "text": [
      "Clases en el data set -> [0 1 2 3 4 5 6 7 8 9]\n",
      "Número de instancias por clase -> [5923 6742 5958 6131 5842 5421 5918 6265 5851 5949]\n"
     ]
    }
   ],
   "source": [
    "import numpy as np\n",
    "\n",
    "n_classes, n_instances = np.unique(y_train, return_counts = True)\n",
    "print(f'Clases en el data set -> {n_classes}')\n",
    "print(f'Número de instancias por clase -> {n_instances}')"
   ]
  },
  {
   "cell_type": "markdown",
   "metadata": {},
   "source": [
    "Como se ha comentado previamente, realizamos un \"aplanado\" de las matrices, en este caso, haremos uso de la función ``reshape`` de ``numpy`` con el segundo parámetro fijado a ``-1`` para que la propia librería infiera las nuevas dimensiones de la matriz. En este caso, obtenemos instancias con 784 características (28*28 = 784 píxeles por imágen, cada píxel es una tonalidad de gris que representa una característica de la imágen.)"
   ]
  },
  {
   "cell_type": "code",
   "execution_count": 5,
   "metadata": {},
   "outputs": [
    {
     "name": "stdout",
     "output_type": "stream",
     "text": [
      "(60000, 784)\n",
      "(10000, 784)\n"
     ]
    }
   ],
   "source": [
    "X_train = X_train.reshape(X_train.shape[0], -1)\n",
    "X_test = X_test.reshape(X_test.shape[0], -1)\n",
    "\n",
    "print(X_train.shape)\n",
    "print(X_test.shape)"
   ]
  },
  {
   "cell_type": "markdown",
   "metadata": {},
   "source": [
    "Antes de proceder con el ajuste de nuestro modelo, debemos recordar que las redes neuronales se basan en el cácluclo de distancias, por lo que se beneficia de un proceso de escalado de sus variables. Para ello utilizaremos ``StandardScaler`` de la librería ``sklearn``. \n",
    "\n",
    "Por otra parte resulta conveniente discutir la estructura de la red neuronal que vamos a diseñar. La estructura de nuestra red será la siguiente.\n",
    "\n",
    "- Una capa de entrada con 784 nodos, uno por cada característica de nuestras instancias.\n",
    "- Tres capas ocultas con 128 nodos y función de activación. Entre cada una de estas capas ocultas incluimos una capa ``Dropout`` que de forma aleatoria pone a 0 un 10% de las conexiones, evitando de esta forma el *overfitting*.\n",
    "- Una capa de salida con tantos nodos como clases, en este caso, 10 nodos.\n",
    "\n",
    "Durante el entrenamiento, realizaremos una optimización mediante el algoritmo de Adam, y utilizaremos la ``categorial_crossentropy`` como función de pérdida. Esta magnitud calcula la diferencia media entre la distribución de probabilidad predicha frente a la distribución de probabilidad real de cada clase del problema. Buscamos minimizar esta función de pérdida. \n",
    "\n",
    "En este caso, como entendemos que los nodos de salida representan probabilidad de pertenencia a cada clase, necesitamos codificar las variables objetivo como *one-hot*. Para ello, utilizaremos la función ``to_categorical()`` de ``keras.utils``. Además, la capa de salida de nuestra red tendrá una función de activación ``softmax`` para, precisamente, predecir la probabilidad de cada clase.\n",
    "\n",
    "https://machinelearningmastery.com/how-to-choose-loss-functions-when-training-deep-learning-neural-networks/"
   ]
  },
  {
   "cell_type": "code",
   "execution_count": 6,
   "metadata": {},
   "outputs": [
    {
     "name": "stdout",
     "output_type": "stream",
     "text": [
      "Epoch 1/100\n",
      "1875/1875 [==============================] - 7s 3ms/step - loss: 0.2740 - accuracy: 0.9198 - val_loss: 0.1432 - val_accuracy: 0.9590\n",
      "Epoch 2/100\n",
      "1875/1875 [==============================] - 5s 3ms/step - loss: 0.1463 - accuracy: 0.9567 - val_loss: 0.1102 - val_accuracy: 0.9671\n",
      "Epoch 3/100\n",
      "1875/1875 [==============================] - 6s 3ms/step - loss: 0.1106 - accuracy: 0.9664 - val_loss: 0.1128 - val_accuracy: 0.9701\n",
      "Epoch 4/100\n",
      "1875/1875 [==============================] - 6s 3ms/step - loss: 0.0983 - accuracy: 0.9698 - val_loss: 0.1151 - val_accuracy: 0.9684\n",
      "Epoch 5/100\n",
      "1875/1875 [==============================] - 6s 3ms/step - loss: 0.0855 - accuracy: 0.9739 - val_loss: 0.0994 - val_accuracy: 0.9723\n",
      "Epoch 6/100\n",
      "1875/1875 [==============================] - 6s 3ms/step - loss: 0.0731 - accuracy: 0.9776 - val_loss: 0.1020 - val_accuracy: 0.9736\n",
      "Epoch 7/100\n",
      "1875/1875 [==============================] - 6s 3ms/step - loss: 0.0684 - accuracy: 0.9788 - val_loss: 0.1057 - val_accuracy: 0.9742\n",
      "Epoch 8/100\n",
      "1875/1875 [==============================] - 6s 3ms/step - loss: 0.0627 - accuracy: 0.9801 - val_loss: 0.1162 - val_accuracy: 0.9753\n",
      "Epoch 9/100\n",
      "1875/1875 [==============================] - 6s 3ms/step - loss: 0.0620 - accuracy: 0.9809 - val_loss: 0.1056 - val_accuracy: 0.9755\n",
      "Epoch 10/100\n",
      "1875/1875 [==============================] - 6s 3ms/step - loss: 0.0577 - accuracy: 0.9828 - val_loss: 0.1030 - val_accuracy: 0.9759\n",
      "Epoch 11/100\n",
      "1875/1875 [==============================] - 6s 3ms/step - loss: 0.0493 - accuracy: 0.9854 - val_loss: 0.1220 - val_accuracy: 0.9741\n",
      "Epoch 12/100\n",
      "1875/1875 [==============================] - 6s 3ms/step - loss: 0.0529 - accuracy: 0.9840 - val_loss: 0.1136 - val_accuracy: 0.9767\n",
      "Epoch 13/100\n",
      "1875/1875 [==============================] - 6s 3ms/step - loss: 0.0453 - accuracy: 0.9862 - val_loss: 0.1339 - val_accuracy: 0.9745\n",
      "Epoch 14/100\n",
      "1875/1875 [==============================] - 6s 3ms/step - loss: 0.0493 - accuracy: 0.9858 - val_loss: 0.1274 - val_accuracy: 0.9744\n",
      "Epoch 15/100\n",
      "1875/1875 [==============================] - 6s 3ms/step - loss: 0.0451 - accuracy: 0.9868 - val_loss: 0.1419 - val_accuracy: 0.9728\n",
      "Epoch 16/100\n",
      "1875/1875 [==============================] - 5s 3ms/step - loss: 0.0439 - accuracy: 0.9870 - val_loss: 0.1250 - val_accuracy: 0.9764\n",
      "Epoch 17/100\n",
      "1875/1875 [==============================] - 5s 3ms/step - loss: 0.0409 - accuracy: 0.9879 - val_loss: 0.1547 - val_accuracy: 0.9754\n",
      "Epoch 18/100\n",
      "1875/1875 [==============================] - 6s 3ms/step - loss: 0.0437 - accuracy: 0.9870 - val_loss: 0.1474 - val_accuracy: 0.9760\n",
      "Epoch 19/100\n",
      "1875/1875 [==============================] - 6s 3ms/step - loss: 0.0404 - accuracy: 0.9885 - val_loss: 0.1263 - val_accuracy: 0.9768\n",
      "Epoch 20/100\n",
      "1875/1875 [==============================] - 5s 3ms/step - loss: 0.0399 - accuracy: 0.9887 - val_loss: 0.1505 - val_accuracy: 0.9737\n",
      "Epoch 21/100\n",
      "1875/1875 [==============================] - 5s 3ms/step - loss: 0.0418 - accuracy: 0.9885 - val_loss: 0.1635 - val_accuracy: 0.9758\n",
      "Epoch 22/100\n",
      "1875/1875 [==============================] - 5s 3ms/step - loss: 0.0436 - accuracy: 0.9886 - val_loss: 0.1423 - val_accuracy: 0.9775\n",
      "Epoch 23/100\n",
      "1875/1875 [==============================] - 5s 3ms/step - loss: 0.0399 - accuracy: 0.9900 - val_loss: 0.1416 - val_accuracy: 0.9765\n",
      "Epoch 24/100\n",
      "1875/1875 [==============================] - 5s 3ms/step - loss: 0.0364 - accuracy: 0.9902 - val_loss: 0.1226 - val_accuracy: 0.9758\n",
      "Epoch 25/100\n",
      "1875/1875 [==============================] - 5s 3ms/step - loss: 0.0400 - accuracy: 0.9899 - val_loss: 0.1930 - val_accuracy: 0.9740\n",
      "Epoch 26/100\n",
      "1875/1875 [==============================] - 5s 3ms/step - loss: 0.0388 - accuracy: 0.9903 - val_loss: 0.1484 - val_accuracy: 0.9764\n",
      "Epoch 27/100\n",
      "1875/1875 [==============================] - 5s 3ms/step - loss: 0.0338 - accuracy: 0.9910 - val_loss: 0.1394 - val_accuracy: 0.9760\n",
      "Epoch 28/100\n",
      "1875/1875 [==============================] - 5s 3ms/step - loss: 0.0365 - accuracy: 0.9905 - val_loss: 0.1897 - val_accuracy: 0.9759\n",
      "Epoch 29/100\n",
      "1875/1875 [==============================] - 6s 3ms/step - loss: 0.0337 - accuracy: 0.9903 - val_loss: 0.1625 - val_accuracy: 0.9744\n",
      "Epoch 30/100\n",
      "1875/1875 [==============================] - 6s 3ms/step - loss: 0.0362 - accuracy: 0.9904 - val_loss: 0.1429 - val_accuracy: 0.9775\n",
      "Epoch 31/100\n",
      "1875/1875 [==============================] - 5s 3ms/step - loss: 0.0317 - accuracy: 0.9912 - val_loss: 0.1570 - val_accuracy: 0.9774\n",
      "Epoch 32/100\n",
      "1875/1875 [==============================] - 5s 3ms/step - loss: 0.0364 - accuracy: 0.9909 - val_loss: 0.1602 - val_accuracy: 0.9762\n",
      "Epoch 33/100\n",
      "1875/1875 [==============================] - 5s 3ms/step - loss: 0.0336 - accuracy: 0.9911 - val_loss: 0.1525 - val_accuracy: 0.9776\n",
      "Epoch 34/100\n",
      "1875/1875 [==============================] - 5s 3ms/step - loss: 0.0348 - accuracy: 0.9912 - val_loss: 0.1501 - val_accuracy: 0.9774\n",
      "Epoch 35/100\n",
      "1875/1875 [==============================] - 5s 3ms/step - loss: 0.0328 - accuracy: 0.9919 - val_loss: 0.1498 - val_accuracy: 0.9779\n",
      "Epoch 36/100\n",
      "1875/1875 [==============================] - 6s 3ms/step - loss: 0.0339 - accuracy: 0.9911 - val_loss: 0.1636 - val_accuracy: 0.9769\n",
      "Epoch 37/100\n",
      "1875/1875 [==============================] - 6s 3ms/step - loss: 0.0314 - accuracy: 0.9924 - val_loss: 0.1372 - val_accuracy: 0.9768\n",
      "Epoch 38/100\n",
      "1875/1875 [==============================] - 5s 3ms/step - loss: 0.0341 - accuracy: 0.9917 - val_loss: 0.1671 - val_accuracy: 0.9780\n",
      "Epoch 39/100\n",
      "1875/1875 [==============================] - 5s 3ms/step - loss: 0.0310 - accuracy: 0.9923 - val_loss: 0.1755 - val_accuracy: 0.9761\n",
      "Epoch 40/100\n",
      "1875/1875 [==============================] - 6s 3ms/step - loss: 0.0356 - accuracy: 0.9914 - val_loss: 0.1462 - val_accuracy: 0.9780\n",
      "Epoch 41/100\n",
      "1875/1875 [==============================] - 6s 3ms/step - loss: 0.0342 - accuracy: 0.9913 - val_loss: 0.1700 - val_accuracy: 0.9767\n",
      "Epoch 42/100\n",
      "1875/1875 [==============================] - 5s 3ms/step - loss: 0.0356 - accuracy: 0.9917 - val_loss: 0.1690 - val_accuracy: 0.9780\n",
      "Epoch 43/100\n",
      "1875/1875 [==============================] - 5s 3ms/step - loss: 0.0284 - accuracy: 0.9931 - val_loss: 0.2136 - val_accuracy: 0.9772\n",
      "Epoch 44/100\n",
      "1875/1875 [==============================] - 5s 3ms/step - loss: 0.0278 - accuracy: 0.9924 - val_loss: 0.1847 - val_accuracy: 0.9777\n",
      "Epoch 45/100\n",
      "1875/1875 [==============================] - 6s 3ms/step - loss: 0.0320 - accuracy: 0.9922 - val_loss: 0.1628 - val_accuracy: 0.9772\n",
      "Epoch 46/100\n",
      "1875/1875 [==============================] - 6s 3ms/step - loss: 0.0337 - accuracy: 0.9923 - val_loss: 0.1771 - val_accuracy: 0.9767\n",
      "Epoch 47/100\n",
      "1875/1875 [==============================] - 6s 3ms/step - loss: 0.0325 - accuracy: 0.9918 - val_loss: 0.2108 - val_accuracy: 0.9759\n",
      "Epoch 48/100\n",
      "1875/1875 [==============================] - 5s 3ms/step - loss: 0.0346 - accuracy: 0.9926 - val_loss: 0.1882 - val_accuracy: 0.9787\n",
      "Epoch 49/100\n",
      "1875/1875 [==============================] - 6s 3ms/step - loss: 0.0293 - accuracy: 0.9928 - val_loss: 0.1768 - val_accuracy: 0.9757\n",
      "Epoch 50/100\n",
      "1875/1875 [==============================] - 6s 3ms/step - loss: 0.0283 - accuracy: 0.9930 - val_loss: 0.2168 - val_accuracy: 0.9739\n",
      "Epoch 51/100\n",
      "1875/1875 [==============================] - 6s 3ms/step - loss: 0.0273 - accuracy: 0.9928 - val_loss: 0.2283 - val_accuracy: 0.9775\n",
      "Epoch 52/100\n",
      "1875/1875 [==============================] - 6s 3ms/step - loss: 0.0325 - accuracy: 0.9928 - val_loss: 0.2150 - val_accuracy: 0.9781\n",
      "Epoch 53/100\n",
      "1875/1875 [==============================] - 6s 3ms/step - loss: 0.0294 - accuracy: 0.9931 - val_loss: 0.2093 - val_accuracy: 0.9754\n",
      "Epoch 54/100\n",
      "1875/1875 [==============================] - 7s 4ms/step - loss: 0.0328 - accuracy: 0.9924 - val_loss: 0.1585 - val_accuracy: 0.9779\n",
      "Epoch 55/100\n",
      "1875/1875 [==============================] - 7s 4ms/step - loss: 0.0300 - accuracy: 0.9931 - val_loss: 0.2140 - val_accuracy: 0.9766\n",
      "Epoch 56/100\n",
      "1875/1875 [==============================] - 7s 3ms/step - loss: 0.0248 - accuracy: 0.9937 - val_loss: 0.2269 - val_accuracy: 0.9770\n",
      "Epoch 57/100\n",
      "1875/1875 [==============================] - 7s 4ms/step - loss: 0.0300 - accuracy: 0.9934 - val_loss: 0.1934 - val_accuracy: 0.9772\n",
      "Epoch 58/100\n",
      "1875/1875 [==============================] - 6s 3ms/step - loss: 0.0328 - accuracy: 0.9931 - val_loss: 0.2254 - val_accuracy: 0.9772\n",
      "Epoch 59/100\n",
      "1875/1875 [==============================] - 6s 3ms/step - loss: 0.0306 - accuracy: 0.9932 - val_loss: 0.2171 - val_accuracy: 0.9758\n",
      "Epoch 60/100\n",
      "1875/1875 [==============================] - 5s 3ms/step - loss: 0.0269 - accuracy: 0.9931 - val_loss: 0.2007 - val_accuracy: 0.9762\n",
      "Epoch 61/100\n",
      "1875/1875 [==============================] - 6s 3ms/step - loss: 0.0266 - accuracy: 0.9938 - val_loss: 0.1818 - val_accuracy: 0.9777\n",
      "Epoch 62/100\n",
      "1875/1875 [==============================] - 5s 3ms/step - loss: 0.0277 - accuracy: 0.9934 - val_loss: 0.1803 - val_accuracy: 0.9772\n",
      "Epoch 63/100\n",
      "1875/1875 [==============================] - 6s 3ms/step - loss: 0.0245 - accuracy: 0.9939 - val_loss: 0.2105 - val_accuracy: 0.9753\n",
      "Epoch 64/100\n",
      "1875/1875 [==============================] - 6s 3ms/step - loss: 0.0299 - accuracy: 0.9932 - val_loss: 0.1902 - val_accuracy: 0.9770\n",
      "Epoch 65/100\n",
      "1875/1875 [==============================] - 6s 3ms/step - loss: 0.0281 - accuracy: 0.9941 - val_loss: 0.2277 - val_accuracy: 0.9760\n",
      "Epoch 66/100\n",
      "1875/1875 [==============================] - 6s 3ms/step - loss: 0.0260 - accuracy: 0.9938 - val_loss: 0.2206 - val_accuracy: 0.9771\n",
      "Epoch 67/100\n",
      "1875/1875 [==============================] - 6s 3ms/step - loss: 0.0282 - accuracy: 0.9934 - val_loss: 0.1876 - val_accuracy: 0.9779\n",
      "Epoch 68/100\n",
      "1875/1875 [==============================] - 6s 3ms/step - loss: 0.0297 - accuracy: 0.9937 - val_loss: 0.2021 - val_accuracy: 0.9769\n",
      "Epoch 69/100\n",
      "1875/1875 [==============================] - 6s 3ms/step - loss: 0.0267 - accuracy: 0.9941 - val_loss: 0.1776 - val_accuracy: 0.9782\n",
      "Epoch 70/100\n",
      "1875/1875 [==============================] - 6s 3ms/step - loss: 0.0308 - accuracy: 0.9929 - val_loss: 0.1896 - val_accuracy: 0.9773\n",
      "Epoch 71/100\n",
      "1875/1875 [==============================] - 5s 3ms/step - loss: 0.0258 - accuracy: 0.9939 - val_loss: 0.1900 - val_accuracy: 0.9771\n",
      "Epoch 72/100\n",
      "1875/1875 [==============================] - 6s 3ms/step - loss: 0.0269 - accuracy: 0.9937 - val_loss: 0.1988 - val_accuracy: 0.9751\n",
      "Epoch 73/100\n",
      "1875/1875 [==============================] - 6s 3ms/step - loss: 0.0246 - accuracy: 0.9942 - val_loss: 0.2193 - val_accuracy: 0.9772\n",
      "Epoch 74/100\n",
      "1875/1875 [==============================] - 6s 3ms/step - loss: 0.0306 - accuracy: 0.9939 - val_loss: 0.2568 - val_accuracy: 0.9751\n",
      "Epoch 75/100\n",
      "1875/1875 [==============================] - 6s 3ms/step - loss: 0.0302 - accuracy: 0.9935 - val_loss: 0.2598 - val_accuracy: 0.9766\n",
      "Epoch 76/100\n",
      "1875/1875 [==============================] - 6s 3ms/step - loss: 0.0285 - accuracy: 0.9942 - val_loss: 0.2733 - val_accuracy: 0.9777\n",
      "Epoch 77/100\n",
      "1875/1875 [==============================] - 6s 3ms/step - loss: 0.0244 - accuracy: 0.9945 - val_loss: 0.2490 - val_accuracy: 0.9787\n",
      "Epoch 78/100\n",
      "1875/1875 [==============================] - 6s 3ms/step - loss: 0.0327 - accuracy: 0.9934 - val_loss: 0.1914 - val_accuracy: 0.9769\n",
      "Epoch 79/100\n",
      "1875/1875 [==============================] - 6s 3ms/step - loss: 0.0241 - accuracy: 0.9945 - val_loss: 0.1976 - val_accuracy: 0.9762\n",
      "Epoch 80/100\n",
      "1875/1875 [==============================] - 6s 3ms/step - loss: 0.0259 - accuracy: 0.9944 - val_loss: 0.1826 - val_accuracy: 0.9760\n",
      "Epoch 81/100\n",
      "1875/1875 [==============================] - 6s 3ms/step - loss: 0.0270 - accuracy: 0.9940 - val_loss: 0.2081 - val_accuracy: 0.9776\n",
      "Epoch 82/100\n",
      "1875/1875 [==============================] - 6s 3ms/step - loss: 0.0263 - accuracy: 0.9943 - val_loss: 0.2278 - val_accuracy: 0.9757\n",
      "Epoch 83/100\n",
      "1875/1875 [==============================] - 6s 3ms/step - loss: 0.0242 - accuracy: 0.9945 - val_loss: 0.2246 - val_accuracy: 0.9757\n",
      "Epoch 84/100\n",
      "1875/1875 [==============================] - 6s 3ms/step - loss: 0.0228 - accuracy: 0.9946 - val_loss: 0.2181 - val_accuracy: 0.9773\n",
      "Epoch 85/100\n",
      "1875/1875 [==============================] - 6s 3ms/step - loss: 0.0302 - accuracy: 0.9937 - val_loss: 0.1962 - val_accuracy: 0.9763\n",
      "Epoch 86/100\n",
      "1875/1875 [==============================] - 6s 3ms/step - loss: 0.0254 - accuracy: 0.9943 - val_loss: 0.1848 - val_accuracy: 0.9770\n",
      "Epoch 87/100\n",
      "1875/1875 [==============================] - 6s 3ms/step - loss: 0.0243 - accuracy: 0.9942 - val_loss: 0.1518 - val_accuracy: 0.9772\n",
      "Epoch 88/100\n",
      "1875/1875 [==============================] - 6s 3ms/step - loss: 0.0234 - accuracy: 0.9949 - val_loss: 0.2325 - val_accuracy: 0.9743\n",
      "Epoch 89/100\n",
      "1875/1875 [==============================] - 6s 3ms/step - loss: 0.0323 - accuracy: 0.9941 - val_loss: 0.2068 - val_accuracy: 0.9780\n",
      "Epoch 90/100\n",
      "1875/1875 [==============================] - 6s 3ms/step - loss: 0.0227 - accuracy: 0.9948 - val_loss: 0.2171 - val_accuracy: 0.9767\n",
      "Epoch 91/100\n",
      "1875/1875 [==============================] - 6s 3ms/step - loss: 0.0239 - accuracy: 0.9945 - val_loss: 0.2044 - val_accuracy: 0.9794\n",
      "Epoch 92/100\n",
      "1875/1875 [==============================] - 6s 3ms/step - loss: 0.0256 - accuracy: 0.9944 - val_loss: 0.2145 - val_accuracy: 0.9754\n",
      "Epoch 93/100\n",
      "1875/1875 [==============================] - 6s 3ms/step - loss: 0.0241 - accuracy: 0.9947 - val_loss: 0.2448 - val_accuracy: 0.9769\n",
      "Epoch 94/100\n",
      "1875/1875 [==============================] - 6s 3ms/step - loss: 0.0284 - accuracy: 0.9947 - val_loss: 0.1760 - val_accuracy: 0.9783\n",
      "Epoch 95/100\n",
      "1875/1875 [==============================] - 6s 3ms/step - loss: 0.0239 - accuracy: 0.9948 - val_loss: 0.1605 - val_accuracy: 0.9781\n",
      "Epoch 96/100\n",
      "1875/1875 [==============================] - 6s 3ms/step - loss: 0.0262 - accuracy: 0.9948 - val_loss: 0.1852 - val_accuracy: 0.9778\n",
      "Epoch 97/100\n",
      "1875/1875 [==============================] - 6s 3ms/step - loss: 0.0224 - accuracy: 0.9950 - val_loss: 0.1858 - val_accuracy: 0.9765\n",
      "Epoch 98/100\n",
      "1875/1875 [==============================] - 6s 3ms/step - loss: 0.0200 - accuracy: 0.9956 - val_loss: 0.1922 - val_accuracy: 0.9774\n",
      "Epoch 99/100\n",
      "1875/1875 [==============================] - 6s 3ms/step - loss: 0.0235 - accuracy: 0.9948 - val_loss: 0.2114 - val_accuracy: 0.9773\n",
      "Epoch 100/100\n",
      "1875/1875 [==============================] - 6s 3ms/step - loss: 0.0263 - accuracy: 0.9948 - val_loss: 0.2063 - val_accuracy: 0.9750\n"
     ]
    },
    {
     "data": {
      "text/html": [
       "<div>\n",
       "<style scoped>\n",
       "    .dataframe tbody tr th:only-of-type {\n",
       "        vertical-align: middle;\n",
       "    }\n",
       "\n",
       "    .dataframe tbody tr th {\n",
       "        vertical-align: top;\n",
       "    }\n",
       "\n",
       "    .dataframe thead th {\n",
       "        text-align: right;\n",
       "    }\n",
       "</style>\n",
       "<table border=\"1\" class=\"dataframe\">\n",
       "  <thead>\n",
       "    <tr style=\"text-align: right;\">\n",
       "      <th></th>\n",
       "      <th>loss</th>\n",
       "      <th>accuracy</th>\n",
       "      <th>val_loss</th>\n",
       "      <th>val_accuracy</th>\n",
       "      <th>epoch</th>\n",
       "    </tr>\n",
       "  </thead>\n",
       "  <tbody>\n",
       "    <tr>\n",
       "      <th>0</th>\n",
       "      <td>0.273998</td>\n",
       "      <td>0.919767</td>\n",
       "      <td>0.143191</td>\n",
       "      <td>0.9590</td>\n",
       "      <td>0</td>\n",
       "    </tr>\n",
       "    <tr>\n",
       "      <th>1</th>\n",
       "      <td>0.146305</td>\n",
       "      <td>0.956717</td>\n",
       "      <td>0.110218</td>\n",
       "      <td>0.9671</td>\n",
       "      <td>1</td>\n",
       "    </tr>\n",
       "    <tr>\n",
       "      <th>2</th>\n",
       "      <td>0.110638</td>\n",
       "      <td>0.966367</td>\n",
       "      <td>0.112754</td>\n",
       "      <td>0.9701</td>\n",
       "      <td>2</td>\n",
       "    </tr>\n",
       "    <tr>\n",
       "      <th>3</th>\n",
       "      <td>0.098338</td>\n",
       "      <td>0.969767</td>\n",
       "      <td>0.115066</td>\n",
       "      <td>0.9684</td>\n",
       "      <td>3</td>\n",
       "    </tr>\n",
       "    <tr>\n",
       "      <th>4</th>\n",
       "      <td>0.085496</td>\n",
       "      <td>0.973917</td>\n",
       "      <td>0.099388</td>\n",
       "      <td>0.9723</td>\n",
       "      <td>4</td>\n",
       "    </tr>\n",
       "    <tr>\n",
       "      <th>...</th>\n",
       "      <td>...</td>\n",
       "      <td>...</td>\n",
       "      <td>...</td>\n",
       "      <td>...</td>\n",
       "      <td>...</td>\n",
       "    </tr>\n",
       "    <tr>\n",
       "      <th>95</th>\n",
       "      <td>0.026230</td>\n",
       "      <td>0.994800</td>\n",
       "      <td>0.185224</td>\n",
       "      <td>0.9778</td>\n",
       "      <td>95</td>\n",
       "    </tr>\n",
       "    <tr>\n",
       "      <th>96</th>\n",
       "      <td>0.022351</td>\n",
       "      <td>0.995000</td>\n",
       "      <td>0.185827</td>\n",
       "      <td>0.9765</td>\n",
       "      <td>96</td>\n",
       "    </tr>\n",
       "    <tr>\n",
       "      <th>97</th>\n",
       "      <td>0.019978</td>\n",
       "      <td>0.995583</td>\n",
       "      <td>0.192168</td>\n",
       "      <td>0.9774</td>\n",
       "      <td>97</td>\n",
       "    </tr>\n",
       "    <tr>\n",
       "      <th>98</th>\n",
       "      <td>0.023545</td>\n",
       "      <td>0.994750</td>\n",
       "      <td>0.211363</td>\n",
       "      <td>0.9773</td>\n",
       "      <td>98</td>\n",
       "    </tr>\n",
       "    <tr>\n",
       "      <th>99</th>\n",
       "      <td>0.026262</td>\n",
       "      <td>0.994850</td>\n",
       "      <td>0.206273</td>\n",
       "      <td>0.9750</td>\n",
       "      <td>99</td>\n",
       "    </tr>\n",
       "  </tbody>\n",
       "</table>\n",
       "<p>100 rows × 5 columns</p>\n",
       "</div>"
      ],
      "text/plain": [
       "        loss  accuracy  val_loss  val_accuracy  epoch\n",
       "0   0.273998  0.919767  0.143191        0.9590      0\n",
       "1   0.146305  0.956717  0.110218        0.9671      1\n",
       "2   0.110638  0.966367  0.112754        0.9701      2\n",
       "3   0.098338  0.969767  0.115066        0.9684      3\n",
       "4   0.085496  0.973917  0.099388        0.9723      4\n",
       "..       ...       ...       ...           ...    ...\n",
       "95  0.026230  0.994800  0.185224        0.9778     95\n",
       "96  0.022351  0.995000  0.185827        0.9765     96\n",
       "97  0.019978  0.995583  0.192168        0.9774     97\n",
       "98  0.023545  0.994750  0.211363        0.9773     98\n",
       "99  0.026262  0.994850  0.206273        0.9750     99\n",
       "\n",
       "[100 rows x 5 columns]"
      ]
     },
     "execution_count": 6,
     "metadata": {},
     "output_type": "execute_result"
    }
   ],
   "source": [
    "from sklearn.preprocessing import StandardScaler\n",
    "import tensorflow as tf\n",
    "import pandas as pd\n",
    "from tensorflow import keras\n",
    "from tensorflow.keras import layers\n",
    "from keras.utils import to_categorical\n",
    "import random, time\n",
    "\n",
    "seed = random.seed(time.time())\n",
    "\n",
    "scaler = StandardScaler()\n",
    "X_train = scaler.fit_transform(X_train)\n",
    "X_test = scaler.transform(X_test)\n",
    "y_test, y_train = to_categorical(y_test), to_categorical(y_train)\n",
    "\n",
    "model = keras.Sequential([\n",
    "    # Primera capa oculta con 128 neuronas y función de activación ReLu\n",
    "    # La capa de input tendrá tantas neuronas como características tengan nuestras\n",
    "    # instancias, en este caso 28*28 = 764 neuronas de entrada. \n",
    "    layers.Dense(128, activation='relu', input_shape = [X_train.shape[1]]), \n",
    "    # Capa Dropout para poner el 10% de los valores a 0 de forma aleatoria\n",
    "    layers.Dropout(0.1, seed = seed), \n",
    "    # Segunda capa densa con 128 neuronas y activación Relu\n",
    "    layers.Dense(128, activation='relu'), \n",
    "    # Capa Dropout para poner el 10% de los valores a 0 de forma aleatoria\n",
    "    layers.Dropout(0.1, seed = seed), \n",
    "    # Última capa oculta de nuevo con 128 neuronas y activación ReLu\n",
    "    layers.Dense(128, activation='relu'), \n",
    "    # La capa de salida, al tratarse de un problema de clasificación tendrá\n",
    "    # tantos nodos como clases existan.\n",
    "    layers.Dense(len(n_classes), activation = 'softmax')\n",
    "])\n",
    "\n",
    "# Utilizamos el algoritmo de Adam (descenso por gradiente estocástico) para\n",
    "# optimizar los pesos de los enlaces entre neuronas\n",
    "optimizer = tf.keras.optimizers.Adam(learning_rate = 0.001)\n",
    "# Compilamos nuestro modelo mediante compile()\n",
    "# - Usaremos CROSS ENTROPY como función de pérdida\n",
    "# - Usaremos el algoritmo de Adam como algoritmo de optimización\n",
    "# - Usaremos la exactitud y la exactitud balanceada como métricas del rendimiento.\n",
    "model.compile(loss = 'categorical_crossentropy', \n",
    "                optimizer = optimizer, metrics = ['accuracy'])\n",
    "\n",
    "# Ajustamos los datos de entrenamiento utilizando 100 iteraciones del algoritmo\n",
    "history = model.fit(X_train, y_train, epochs = 100, validation_data = (X_test, y_test))\n",
    "model_history = pd.DataFrame(history.history)\n",
    "model_history['epoch'] = history.epoch\n",
    "\n",
    "model_history"
   ]
  },
  {
   "cell_type": "markdown",
   "metadata": {},
   "source": [
    "Podemos ver como se obtienen valores de la exactitud muy favorables tanto para el conjunto de entrenamiento como para el de test. "
   ]
  },
  {
   "cell_type": "code",
   "execution_count": 7,
   "metadata": {},
   "outputs": [
    {
     "name": "stdout",
     "output_type": "stream",
     "text": [
      "Accuracy en conjunto de entrenamiento -> 0.998533308506012\n",
      "Accuracy en conjunto de test -> 0.9750000238418579\n"
     ]
    }
   ],
   "source": [
    "# Obtenemos la exactitud tanto en el conjunto de entrenamiento como en el de test\n",
    "_, train_acc = model.evaluate(X_train, y_train, verbose = 0)\n",
    "_, test_acc = model.evaluate(X_test, y_test, verbose = 0)\n",
    "\n",
    "print(f'Accuracy en conjunto de entrenamiento -> {train_acc}')\n",
    "print(f'Accuracy en conjunto de test -> {test_acc}')"
   ]
  },
  {
   "cell_type": "markdown",
   "metadata": {},
   "source": [
    "Al graficar el valor de la exactitud en los conjunto de entrenamiento y test en cada úna de las iteraciones del algoritmo podemos apreciar la evolución de ambas métricas. En este caso, vamos como ambas parecen variar muy poco a partir de las 20-30 primeras iteraciones y la exactitud del conjunto de test no supera a la de entrenamiento. Esto puede ser indicativo de que nuestras capas ``Dropout`` desempeñan de forma correcta su función, y no permite que el modelo sobreentrene."
   ]
  },
  {
   "cell_type": "code",
   "execution_count": 8,
   "metadata": {},
   "outputs": [
    {
     "data": {
      "image/png": "[encoded data removed]",
      "text/plain": [
       "<Figure size 432x288 with 1 Axes>"
      ]
     },
     "metadata": {
      "needs_background": "light"
     },
     "output_type": "display_data"
    }
   ],
   "source": [
    "import matplotlib.pyplot as plt\n",
    "\n",
    "fig, ax = plt.subplots(nrows = 1, ncols = 1)\n",
    "fig.suptitle('Accuracy for test and training sets')\n",
    "plt.plot(model_history['accuracy'], label = 'train')\n",
    "plt.plot(model_history['val_accuracy'], label = 'test')\n",
    "plt.legend()\n",
    "plt.show()"
   ]
  }
 ],
 "metadata": {
  "kernelspec": {
   "display_name": "Python 3.10.4 64-bit",
   "language": "python",
   "name": "python3"
  },
  "language_info": {
   "codemirror_mode": {
    "name": "ipython",
    "version": 3
   },
   "file_extension": ".py",
   "mimetype": "text/x-python",
   "name": "python",
   "nbconvert_exporter": "python",
   "pygments_lexer": "ipython3",
   "version": "3.10.4"
  },
  "orig_nbformat": 4,
  "vscode": {
   "interpreter": {
    "hash": "12749f567798517b8543354a13719bbd42e9e3e56a89ba27a040f4f72d5c2230"
   }
  }
 },
 "nbformat": 4,
 "nbformat_minor": 2
}
