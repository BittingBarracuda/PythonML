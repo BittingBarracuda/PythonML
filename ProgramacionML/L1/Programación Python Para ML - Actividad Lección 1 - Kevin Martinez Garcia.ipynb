{
 "cells": [
  {
   "cell_type": "markdown",
   "id": "9f76d47e",
   "metadata": {},
   "source": [
    "# Actividades 1 y 2: Instalación del ecosistema Python"
   ]
  },
  {
   "cell_type": "markdown",
   "id": "ee0db2b1",
   "metadata": {},
   "source": [
    "En esta primera actividad realizamos la instalación de las principales librerías de carácter científico que utilizaremos durante el desarrollo de la asignatura. Estas librerías serán:\n",
    "\n",
    "- ``Numpy``\n",
    "- ``Matplotlib``\n",
    "- ``Pandas``\n",
    "- ``SciPy``\n",
    "- ``Sklearn``\n",
    "\n",
    "La instalación se realizó mediante el gestor de paquetes ``pip``. A continuación mostramos el código necesario para comprobrar la correcta instalación de las librerías en la máquina dónde se realizó este mismo notebook."
   ]
  },
  {
   "cell_type": "code",
   "execution_count": 1,
   "id": "49b32fbb",
   "metadata": {},
   "outputs": [
    {
     "name": "stdout",
     "output_type": "stream",
     "text": [
      "scipy:  1.8.1\n",
      "numpy:  1.22.4\n",
      "matplotlib:  3.5.2\n",
      "pandas:  1.4.2\n",
      "sklearn:  1.1.1\n"
     ]
    }
   ],
   "source": [
    "import scipy\n",
    "import numpy as np\n",
    "import matplotlib as mlt\n",
    "import pandas as pd\n",
    "import sklearn\n",
    "\n",
    "print('scipy: ', scipy.__version__)\n",
    "print('numpy: ', np.__version__)\n",
    "print('matplotlib: ', mlt.__version__)\n",
    "print('pandas: ', pd.__version__)\n",
    "print('sklearn: ', sklearn.__version__)"
   ]
  },
  {
   "cell_type": "markdown",
   "id": "20b9b9e6",
   "metadata": {},
   "source": [
    "# Actividad 2: Carga de un fichero ``.csv``"
   ]
  },
  {
   "cell_type": "markdown",
   "id": "98a927b2",
   "metadata": {},
   "source": [
    "En la segunda actividad propuesta, se procedió a realizar la carga de un fichero csv utilizando los siguientes métodos:\n",
    "\n",
    "- Carga mediante la librería estándar de Python.\n",
    "- Carga mediante ``numpy``.\n",
    "- Carga mediante ``pandas``.\n",
    "\n",
    "Para esta actividad vamos a utilizar el ''Car Evaulation Data Set'' obtenido en el ''UCI Machine Learning Repository''. https://archive.ics.uci.edu/ml/datasets/Car+Evaluation\n",
    "\n",
    "Este dataset evalúa el ''grado de aceptación'' de un vehículo en base a los siguientes factores:\n",
    "\n",
    "- Precio de compra del vehículo.\n",
    "- Coste de mantenimiento del vehículo.\n",
    "- Número de puertas.\n",
    "- Número de personas que puede transportar.\n",
    "- Tamaño del maletero.\n",
    "- Seguridad estimada del vehículo.\n",
    "\n",
    "En base a estas variables clasifica el grado de aceptación en las siguientes clases:\n",
    "\n",
    "- No aceptable\n",
    "- Aceptable\n",
    "- Bueno\n",
    "- Muy bueno"
   ]
  },
  {
   "cell_type": "markdown",
   "id": "c22bbf35",
   "metadata": {},
   "source": [
    "## Carga utilizando la librería ``csv``"
   ]
  },
  {
   "cell_type": "code",
   "execution_count": 2,
   "id": "06340784",
   "metadata": {},
   "outputs": [
    {
     "name": "stdout",
     "output_type": "stream",
     "text": [
      "[['vhigh', 'vhigh', '2', '2', 'small', 'low', 'unacc'], ['vhigh', 'vhigh', '2', '2', 'small', 'med', 'unacc'], ['vhigh', 'vhigh', '2', '2', 'small', 'high', 'unacc'], ['vhigh', 'vhigh', '2', '2', 'med', 'low', 'unacc'], ['vhigh', 'vhigh', '2', '2', 'med', 'med', 'unacc'], ['vhigh', 'vhigh', '2', '2', 'med', 'high', 'unacc'], ['vhigh', 'vhigh', '2', '2', 'big', 'low', 'unacc'], ['vhigh', 'vhigh', '2', '2', 'big', 'med', 'unacc'], ['vhigh', 'vhigh', '2', '2', 'big', 'high', 'unacc'], ['vhigh', 'vhigh', '2', '4', 'small', 'low', 'unacc']]\n"
     ]
    }
   ],
   "source": [
    "import csv\n",
    "\n",
    "raw_data = open('car.csv', 'rt')\n",
    "reader = csv.reader(raw_data, delimiter = ',', quoting = csv.QUOTE_NONE)\n",
    "x = list(reader)\n",
    "print(x[:10])"
   ]
  },
  {
   "cell_type": "code",
   "execution_count": 3,
   "id": "1ea246c0",
   "metadata": {},
   "outputs": [
    {
     "name": "stdout",
     "output_type": "stream",
     "text": [
      "Número de instancias 1728\n",
      "Número de características 7\n"
     ]
    }
   ],
   "source": [
    "print(f'Número de instancias {len(x)}')\n",
    "print(f'Número de características {len(x[0])}')"
   ]
  },
  {
   "cell_type": "markdown",
   "id": "28d3fb9d",
   "metadata": {},
   "source": [
    "## Carga con ``numpy`` "
   ]
  },
  {
   "cell_type": "code",
   "execution_count": 4,
   "id": "c58a15e2",
   "metadata": {},
   "outputs": [
    {
     "name": "stdout",
     "output_type": "stream",
     "text": [
      "(1728, 7)\n"
     ]
    }
   ],
   "source": [
    "np_data = np.loadtxt('car.csv', delimiter = ',', dtype = str)\n",
    "print(np_data.shape)"
   ]
  },
  {
   "cell_type": "markdown",
   "id": "caf3d3e9",
   "metadata": {},
   "source": [
    "De nuevo, comprobamos que disponemos de 1728 instancias con 7 características por instancia."
   ]
  },
  {
   "cell_type": "markdown",
   "id": "2e368d95",
   "metadata": {},
   "source": [
    "## Carga con ``pandas``"
   ]
  },
  {
   "cell_type": "markdown",
   "id": "739b1df1",
   "metadata": {},
   "source": [
    "Mediante el fichero ``car.names`` disponible en la página adjunta más arriba, podemos determinar los nombres de las características estudiadas. Utilizaremos esa información para asignarle un nombre a cada columna del DataFrame que vamos a construir a continuación."
   ]
  },
  {
   "cell_type": "code",
   "execution_count": 5,
   "id": "87bf0931",
   "metadata": {},
   "outputs": [
    {
     "name": "stdout",
     "output_type": "stream",
     "text": [
      "(1728, 7)\n"
     ]
    }
   ],
   "source": [
    "col_names = ['buying', 'maint', 'doors', 'persons', 'lug_boot', 'safety', 'class']\n",
    "pd_data = pd.read_csv('car.csv', names = col_names)\n",
    "print(pd_data.shape)"
   ]
  },
  {
   "cell_type": "markdown",
   "id": "003c44fe",
   "metadata": {},
   "source": [
    "De la salida anterior podemos verificar que efectivamente tenemos 1728 instancias con 7 características por instancia."
   ]
  },
  {
   "cell_type": "code",
   "execution_count": null,
   "id": "eb2de870",
   "metadata": {},
   "outputs": [],
   "source": []
  }
 ],
 "metadata": {
  "kernelspec": {
   "display_name": "Python 3 (ipykernel)",
   "language": "python",
   "name": "python3"
  },
  "language_info": {
   "codemirror_mode": {
    "name": "ipython",
    "version": 3
   },
   "file_extension": ".py",
   "mimetype": "text/x-python",
   "name": "python",
   "nbconvert_exporter": "python",
   "pygments_lexer": "ipython3",
   "version": "3.10.4"
  }
 },
 "nbformat": 4,
 "nbformat_minor": 5
}
