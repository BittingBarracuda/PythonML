{
 "cells": [
  {
   "cell_type": "markdown",
   "id": "6920586e",
   "metadata": {},
   "source": [
    "# Carga del *Vertebral Column Data Set*"
   ]
  },
  {
   "cell_type": "markdown",
   "id": "718d515a",
   "metadata": {},
   "source": [
    "Vamos a comenzar cargando el *Vertebral Column Data Set* que clasifica a los pacientes en tres clases diferentes. Para ello, haremos uso de ``pandas`` y su función ``read_csv()``. Utilizaremos ``sep = ' '`` para indicar que las características están separadas con un espacio en el fichero que las contiene."
   ]
  },
  {
   "cell_type": "code",
   "execution_count": 28,
   "id": "eac92648",
   "metadata": {},
   "outputs": [
    {
     "data": {
      "text/html": [
       "<div>\n",
       "<style scoped>\n",
       "    .dataframe tbody tr th:only-of-type {\n",
       "        vertical-align: middle;\n",
       "    }\n",
       "\n",
       "    .dataframe tbody tr th {\n",
       "        vertical-align: top;\n",
       "    }\n",
       "\n",
       "    .dataframe thead th {\n",
       "        text-align: right;\n",
       "    }\n",
       "</style>\n",
       "<table border=\"1\" class=\"dataframe\">\n",
       "  <thead>\n",
       "    <tr style=\"text-align: right;\">\n",
       "      <th></th>\n",
       "      <th>pelvic_incidence</th>\n",
       "      <th>pelvic_tilt</th>\n",
       "      <th>lumbar_lordosis_angle</th>\n",
       "      <th>sacral_slope</th>\n",
       "      <th>pelvic_radius</th>\n",
       "      <th>degree_spondylolisthesis</th>\n",
       "      <th>class</th>\n",
       "    </tr>\n",
       "  </thead>\n",
       "  <tbody>\n",
       "    <tr>\n",
       "      <th>0</th>\n",
       "      <td>63.03</td>\n",
       "      <td>22.55</td>\n",
       "      <td>39.61</td>\n",
       "      <td>40.48</td>\n",
       "      <td>98.67</td>\n",
       "      <td>-0.25</td>\n",
       "      <td>DH</td>\n",
       "    </tr>\n",
       "    <tr>\n",
       "      <th>1</th>\n",
       "      <td>39.06</td>\n",
       "      <td>10.06</td>\n",
       "      <td>25.02</td>\n",
       "      <td>29.00</td>\n",
       "      <td>114.41</td>\n",
       "      <td>4.56</td>\n",
       "      <td>DH</td>\n",
       "    </tr>\n",
       "    <tr>\n",
       "      <th>2</th>\n",
       "      <td>68.83</td>\n",
       "      <td>22.22</td>\n",
       "      <td>50.09</td>\n",
       "      <td>46.61</td>\n",
       "      <td>105.99</td>\n",
       "      <td>-3.53</td>\n",
       "      <td>DH</td>\n",
       "    </tr>\n",
       "    <tr>\n",
       "      <th>3</th>\n",
       "      <td>69.30</td>\n",
       "      <td>24.65</td>\n",
       "      <td>44.31</td>\n",
       "      <td>44.64</td>\n",
       "      <td>101.87</td>\n",
       "      <td>11.21</td>\n",
       "      <td>DH</td>\n",
       "    </tr>\n",
       "    <tr>\n",
       "      <th>4</th>\n",
       "      <td>49.71</td>\n",
       "      <td>9.65</td>\n",
       "      <td>28.32</td>\n",
       "      <td>40.06</td>\n",
       "      <td>108.17</td>\n",
       "      <td>7.92</td>\n",
       "      <td>DH</td>\n",
       "    </tr>\n",
       "  </tbody>\n",
       "</table>\n",
       "</div>"
      ],
      "text/plain": [
       "   pelvic_incidence  pelvic_tilt  lumbar_lordosis_angle  sacral_slope  \\\n",
       "0             63.03        22.55                  39.61         40.48   \n",
       "1             39.06        10.06                  25.02         29.00   \n",
       "2             68.83        22.22                  50.09         46.61   \n",
       "3             69.30        24.65                  44.31         44.64   \n",
       "4             49.71         9.65                  28.32         40.06   \n",
       "\n",
       "   pelvic_radius  degree_spondylolisthesis class  \n",
       "0          98.67                     -0.25    DH  \n",
       "1         114.41                      4.56    DH  \n",
       "2         105.99                     -3.53    DH  \n",
       "3         101.87                     11.21    DH  \n",
       "4         108.17                      7.92    DH  "
      ]
     },
     "execution_count": 28,
     "metadata": {},
     "output_type": "execute_result"
    }
   ],
   "source": [
    "import pandas as pd\n",
    "\n",
    "columns = ['pelvic_incidence', 'pelvic_tilt', \n",
    "            'lumbar_lordosis_angle', 'sacral_slope', \n",
    "            'pelvic_radius', 'degree_spondylolisthesis', 'class']\n",
    "df = pd.read_csv('./column_3C.dat', sep = ' ', header = None, names = columns)\n",
    "df.head()"
   ]
  },
  {
   "cell_type": "code",
   "execution_count": 29,
   "id": "0118e301",
   "metadata": {},
   "outputs": [
    {
     "data": {
      "text/plain": [
       "SL    150\n",
       "NO    100\n",
       "DH     60\n",
       "Name: class, dtype: int64"
      ]
     },
     "execution_count": 29,
     "metadata": {},
     "output_type": "execute_result"
    }
   ],
   "source": [
    "df['class'].value_counts()"
   ]
  },
  {
   "cell_type": "markdown",
   "id": "1f681aea",
   "metadata": {},
   "source": [
    "Como puede observarse, nos encontramos frente a un Data Set con 6 características numéricas y una variable objetivo que representa 3 clases diferentes. Además, de la salida anterior, puede verse como se trata de un Data Set ligeramente desequilibrado, pues existen diferencias entre el número de instancias para cada clase. \n",
    "\n",
    "Como se ha estudiado en otras lecciones, los árboles de decisiones son robustos frente a datos sin escalar (ya que no se basan en distáncias, sino en la \"homogeneidad\" de los grupos que generan al segmentar los datos) por lo que omitiremos este paso. A continuación vamos a realizar la partición de los datos en variables de entrada y variable objetivo."
   ]
  },
  {
   "cell_type": "code",
   "execution_count": 30,
   "id": "d7e2b600",
   "metadata": {},
   "outputs": [
    {
     "data": {
      "text/html": [
       "<div>\n",
       "<style scoped>\n",
       "    .dataframe tbody tr th:only-of-type {\n",
       "        vertical-align: middle;\n",
       "    }\n",
       "\n",
       "    .dataframe tbody tr th {\n",
       "        vertical-align: top;\n",
       "    }\n",
       "\n",
       "    .dataframe thead th {\n",
       "        text-align: right;\n",
       "    }\n",
       "</style>\n",
       "<table border=\"1\" class=\"dataframe\">\n",
       "  <thead>\n",
       "    <tr style=\"text-align: right;\">\n",
       "      <th></th>\n",
       "      <th>pelvic_incidence</th>\n",
       "      <th>pelvic_tilt</th>\n",
       "      <th>lumbar_lordosis_angle</th>\n",
       "      <th>sacral_slope</th>\n",
       "      <th>pelvic_radius</th>\n",
       "      <th>degree_spondylolisthesis</th>\n",
       "    </tr>\n",
       "  </thead>\n",
       "  <tbody>\n",
       "    <tr>\n",
       "      <th>0</th>\n",
       "      <td>63.03</td>\n",
       "      <td>22.55</td>\n",
       "      <td>39.61</td>\n",
       "      <td>40.48</td>\n",
       "      <td>98.67</td>\n",
       "      <td>-0.25</td>\n",
       "    </tr>\n",
       "    <tr>\n",
       "      <th>1</th>\n",
       "      <td>39.06</td>\n",
       "      <td>10.06</td>\n",
       "      <td>25.02</td>\n",
       "      <td>29.00</td>\n",
       "      <td>114.41</td>\n",
       "      <td>4.56</td>\n",
       "    </tr>\n",
       "    <tr>\n",
       "      <th>2</th>\n",
       "      <td>68.83</td>\n",
       "      <td>22.22</td>\n",
       "      <td>50.09</td>\n",
       "      <td>46.61</td>\n",
       "      <td>105.99</td>\n",
       "      <td>-3.53</td>\n",
       "    </tr>\n",
       "    <tr>\n",
       "      <th>3</th>\n",
       "      <td>69.30</td>\n",
       "      <td>24.65</td>\n",
       "      <td>44.31</td>\n",
       "      <td>44.64</td>\n",
       "      <td>101.87</td>\n",
       "      <td>11.21</td>\n",
       "    </tr>\n",
       "    <tr>\n",
       "      <th>4</th>\n",
       "      <td>49.71</td>\n",
       "      <td>9.65</td>\n",
       "      <td>28.32</td>\n",
       "      <td>40.06</td>\n",
       "      <td>108.17</td>\n",
       "      <td>7.92</td>\n",
       "    </tr>\n",
       "  </tbody>\n",
       "</table>\n",
       "</div>"
      ],
      "text/plain": [
       "   pelvic_incidence  pelvic_tilt  lumbar_lordosis_angle  sacral_slope  \\\n",
       "0             63.03        22.55                  39.61         40.48   \n",
       "1             39.06        10.06                  25.02         29.00   \n",
       "2             68.83        22.22                  50.09         46.61   \n",
       "3             69.30        24.65                  44.31         44.64   \n",
       "4             49.71         9.65                  28.32         40.06   \n",
       "\n",
       "   pelvic_radius  degree_spondylolisthesis  \n",
       "0          98.67                     -0.25  \n",
       "1         114.41                      4.56  \n",
       "2         105.99                     -3.53  \n",
       "3         101.87                     11.21  \n",
       "4         108.17                      7.92  "
      ]
     },
     "execution_count": 30,
     "metadata": {},
     "output_type": "execute_result"
    }
   ],
   "source": [
    "X = df[df.columns[:-1]]\n",
    "Y = df['class']\n",
    "\n",
    "X.head()"
   ]
  },
  {
   "cell_type": "markdown",
   "id": "f9ef73a6",
   "metadata": {},
   "source": [
    "# Entrenamiento y evaluación de un ``DecissionTreeClassifier`` con diferentes métodos de poda"
   ]
  },
  {
   "cell_type": "markdown",
   "id": "b863425f",
   "metadata": {},
   "source": [
    "A continuación vamos a entrenar diferentes modelos de la clase ``DecissionTreeClassifier`` mediante los métodos de poda estudiados en sesiones de teoría. En concreto fijaremos valores para los dos siguientes parámetros:\n",
    "\n",
    "- ``max_depth`` como estrategia de *pre-poda* para controlar la máxima profundidad que el árbol puede alcanzar (y así evitar el *over-fitting*).\n",
    "- ``ccp_alpha`` como estrategia de *post-poda*.\n",
    "\n",
    "Los *decission tree* se caracterizan por ser fácilmente representables e interpretables de forma visual, pues se trata de una estructura muy similar a los árboles binarios. A continuación obtendremos los valores óptimos de ``max_depth`` y ``ccp_alpha`` y mostraremos las diferencias en los árboles resultantes cuando no imponemos ninguna restricción sobre la profundidad del árbol (usaremos ``plot_tree`` para dibujarlos)."
   ]
  },
  {
   "cell_type": "code",
   "execution_count": 31,
   "id": "354fcb1c",
   "metadata": {},
   "outputs": [
    {
     "name": "stdout",
     "output_type": "stream",
     "text": [
      "--------------------------------------------------------\n",
      "CONFIGURACION OPTIMA FIJANDO max_depth\n",
      "Balanced Accuracy -> 0.7850911755353711\n",
      "Max Depth -> 3\n",
      "--------------------------------------------------------\n",
      "--------------------------------------------------------\n",
      "CONFIGURACION OPTIMA FIJANDO max_depth y ccp_alpha\n",
      "Balanced Accuracy -> 0.6330443919096401\n",
      "Max Depth -> 1\n",
      "Ccp Alpha -> 0.1\n",
      "--------------------------------------------------------\n"
     ]
    }
   ],
   "source": [
    "from sklearn.tree import DecisionTreeClassifier, plot_tree\n",
    "from sklearn.metrics import balanced_accuracy_score\n",
    "from sklearn.model_selection import train_test_split\n",
    "import numpy as np\n",
    "import random, time\n",
    "\n",
    "max_depths = list(range(1, 11)) + [None]\n",
    "ccp_alphas = [0.1, 0.2, 0.3, 0.4, 0.5, 0.6, 0.7, 0.8, 0.9]\n",
    "\n",
    "seed = random.seed(time.time())\n",
    "X_train, X_test, y_train, y_test = train_test_split(X, Y, test_size = 0.3, random_state = seed)\n",
    "\n",
    "baccs_1 = []\n",
    "for md in max_depths:\n",
    "    model_temp = DecisionTreeClassifier(max_depth = md).fit(X_train, y_train)\n",
    "    y_temp = model_temp.predict(X_test)\n",
    "    baccs_1.append(balanced_accuracy_score(y_test, y_temp))\n",
    "\n",
    "baccs_2, i = [], 0\n",
    "for md in max_depths:\n",
    "    baccs_2.append([])\n",
    "    for ca in ccp_alphas:\n",
    "        model_temp = DecisionTreeClassifier(max_depth = md, ccp_alpha = ca).fit(X_train, y_train)\n",
    "        y_temp = model_temp.predict(X_test)\n",
    "        baccs_2[i].append(balanced_accuracy_score(y_test, y_temp))\n",
    "    i = i + 1\n",
    "\n",
    "# Mostramos los parámetros óptimos para el experimento\n",
    "baccs_aux_1 = np.array(baccs_1)\n",
    "# print(baccs_aux_1)\n",
    "pos = baccs_aux_1.argmax()\n",
    "print('--------------------------------------------------------')\n",
    "print(f'CONFIGURACION OPTIMA FIJANDO max_depth\\nBalanced Accuracy -> {baccs_aux_1.max()}')\n",
    "print(f'Max Depth -> {max_depths[pos]}')\n",
    "print('--------------------------------------------------------')\n",
    "\n",
    "baccs_aux_2 = np.array(baccs_2)\n",
    "# print(baccs_aux_2)\n",
    "pos1, pos2 = np.unravel_index(baccs_aux_2.argmax(), baccs_aux_2.shape)\n",
    "print('--------------------------------------------------------')\n",
    "print(f'CONFIGURACION OPTIMA FIJANDO max_depth y ccp_alpha\\nBalanced Accuracy -> {baccs_aux_2.max()}')\n",
    "print(f'Max Depth -> {max_depths[pos1]}\\nCcp Alpha -> {ccp_alphas[pos2]}')\n",
    "print('--------------------------------------------------------')"
   ]
  },
  {
   "cell_type": "code",
   "execution_count": 32,
   "id": "ced6572e",
   "metadata": {},
   "outputs": [
    {
     "data": {
      "image/png": "[encoded data removed]",
      "text/plain": [
       "<Figure size 432x288 with 1 Axes>"
      ]
     },
     "metadata": {
      "needs_background": "light"
     },
     "output_type": "display_data"
    }
   ],
   "source": [
    "# Árbol sin restricciones de profundidad ni ccp_alpha\n",
    "aux = plot_tree(DecisionTreeClassifier().fit(X_train, y_train), feature_names = X.columns, class_names = Y.unique())"
   ]
  },
  {
   "cell_type": "code",
   "execution_count": 33,
   "id": "49f420ef",
   "metadata": {},
   "outputs": [
    {
     "data": {
      "image/png": "[encoded data removed]",
      "text/plain": [
       "<Figure size 432x288 with 1 Axes>"
      ]
     },
     "metadata": {
      "needs_background": "light"
     },
     "output_type": "display_data"
    }
   ],
   "source": [
    "aux = plot_tree(DecisionTreeClassifier(max_depth = max_depths[pos]).fit(X_train, y_train), feature_names = X.columns, class_names = Y.unique())"
   ]
  },
  {
   "cell_type": "code",
   "execution_count": 34,
   "id": "87cc3053",
   "metadata": {},
   "outputs": [
    {
     "data": {
      "image/png": "[encoded data removed]",
      "text/plain": [
       "<Figure size 432x288 with 1 Axes>"
      ]
     },
     "metadata": {
      "needs_background": "light"
     },
     "output_type": "display_data"
    }
   ],
   "source": [
    "aux = plot_tree(DecisionTreeClassifier(max_depth = max_depths[pos1], ccp_alpha = ccp_alphas[pos2]).fit(X_train, y_train), feature_names = X.columns, class_names = Y.unique())"
   ]
  },
  {
   "cell_type": "markdown",
   "id": "9730b09d",
   "metadata": {},
   "source": [
    "De los resultados anteriores, podemos extraer las siguientes conclusiones:\n",
    "\n",
    "- El valor óptimo de la *balanced accruacy* (~78.59%) se obtiene usando el parámetro ``max_depth = 3``.\n",
    "- La introducción del parámetro ``ccp_alpha`` parece reducir notablemente la *balanced accuracy* para este experimento. Del último árbol dibujado podemos razonar que esto se debe a un sesgado demasiado agresivo de los árboles generados y, en consecuencia, un esquema de toma de decisiones excesivamente sencillo.\n",
    "- Si no imponemos una profundidad máxima (``max_depth = None``) obtenemos un árbol notablemente más complejo con un alto número de nodos. Esto no sólo supone una reducción de la *balanced accuracy*, sinó también un modelo más \"lento\" pues para clasificar una muestra se deben contrastar sus valores con un mayor número de nodos.\n",
    "- Limitar la profundidad sin imponer valores para ``ccp_alpha`` parece generar un equilibrio entre árboles no demasiado profundos (evitando nodos \"puros\" y posiblemente *over-fitting*) y evitar un sesgado muy agresivo de los nodos."
   ]
  }
 ],
 "metadata": {
  "kernelspec": {
   "display_name": "Python 3.10.4 64-bit",
   "language": "python",
   "name": "python3"
  },
  "language_info": {
   "codemirror_mode": {
    "name": "ipython",
    "version": 3
   },
   "file_extension": ".py",
   "mimetype": "text/x-python",
   "name": "python",
   "nbconvert_exporter": "python",
   "pygments_lexer": "ipython3",
   "version": "3.10.4"
  },
  "vscode": {
   "interpreter": {
    "hash": "12749f567798517b8543354a13719bbd42e9e3e56a89ba27a040f4f72d5c2230"
   }
  }
 },
 "nbformat": 4,
 "nbformat_minor": 5
}
