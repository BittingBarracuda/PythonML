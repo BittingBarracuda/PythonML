{
 "cells": [
  {
   "cell_type": "markdown",
   "id": "e5d089e6",
   "metadata": {},
   "source": [
    "# Problema I"
   ]
  },
  {
   "cell_type": "markdown",
   "id": "78109e6b",
   "metadata": {},
   "source": [
    "Para esta actividad, vamos a comenzar definiendo los objetos a separar en clústers. Como puede observarse, tanto los datos como los *centroides* se definen como arrays ``numpy`` en 2-D. Este array se puede entender como una *lista de listas* donde cada *sublista* contiene las dos dimensiones de cada punto. "
   ]
  },
  {
   "cell_type": "code",
   "execution_count": 1,
   "id": "65365d34",
   "metadata": {},
   "outputs": [],
   "source": [
    "import numpy as np\n",
    "\n",
    "centroids = np.array([[2, 10], [8, 4], [5, 8]])\n",
    "data_points = np.array([[2, 10], [2, 5], [8, 4], \n",
    "                        [5, 8], [7, 5], [6, 4], \n",
    "                        [1, 2], [4, 9]])"
   ]
  },
  {
   "cell_type": "markdown",
   "id": "00fdea29",
   "metadata": {},
   "source": [
    "Una vez definidos los datos del problema, pasámos a implementar el algoritmo *K-Folds* que los separará en tantos clústers como indiquemos en el parámetro ``k``. A continuación, se muestra el código realizado junto con una breve explicación de cada funcion mediante comentarios."
   ]
  },
  {
   "cell_type": "code",
   "execution_count": 2,
   "id": "fb670558",
   "metadata": {},
   "outputs": [],
   "source": [
    "# Importamos la implementación de la distáncia Euclidea \n",
    "# que realicé en la lección 2\n",
    "from distances import euclidean\n",
    "\n",
    "# La función get_centroid recibe como argumento un conjunto de puntos, \n",
    "# y aplica la media sobre cada dimensión para obtener el centroide. Es decir,\n",
    "# entendemos el centroide como la media de los puntos contenidos en data_points\n",
    "def get_centroid(data_points):\n",
    "    return np.mean(data_points, axis = 0)\n",
    "\n",
    "# La función recalculate_centroids recalcula los centroides del conjunto de datos\n",
    "# data_points, en función del clúster a los que pertenezcan. En esencia, toma los\n",
    "# puntos que forman parte de un mismo clúster, y calcula su centroide.\n",
    "def recalculate_centroids(k, data_points, classes):\n",
    "    centroids = np.zeros(shape = (k, 2))\n",
    "    for i in range(k):\n",
    "        pos = np.where(classes == i)\n",
    "        points = data_points[pos, :][0]\n",
    "        centroids[i, :] = get_centroid(points)\n",
    "    return centroids\n",
    "\n",
    "# Esta función implementa el agrupamiento de un conjunto de puntos (data_points),\n",
    "# en k clústers, a partir de unos centroides iniciales (centroids)\n",
    "def k_folds(k, data_points, centroids):\n",
    "    # Definimos una variable booleana que controla la parada del algoritmo\n",
    "    # Para esta implementación, consideramos que el algoritmo termina cuando\n",
    "    # en dos iteraciones seguidas, los puntos no varían el clúster al que pertenecen.\n",
    "    keep = True\n",
    "    # Creamos una lista de listas, para representar los centroides en cada iteración\n",
    "    centroid_list = [centroids]\n",
    "    clusters = np.zeros(shape = (data_points.shape[0]))\n",
    "    while keep:\n",
    "        # Calculamos la distáncia de cada punto a cada uno de los k centroides\n",
    "        # y las almacenamos en un array numpy 2-D.\n",
    "        distances = np.array([euclidean(point, centroids) for point in data_points])\n",
    "        # Cada \"sublista\" del array, contendrá las distancias de cada punto\n",
    "        # a cada uno de los centroides. Determinamos el clúster al que pertenece\n",
    "        # cada punto en función de la mínima distáncia de entre todas las calculadas\n",
    "        new_clusters = np.argmin(distances, axis = 1)\n",
    "        # Si los clústers seleccionados no han variado respecto a la iteración\n",
    "        # anterior, ponemos keep a False para terminar de iterar.\n",
    "        if np.array_equal(clusters, new_clusters):\n",
    "            keep = False\n",
    "        else:\n",
    "        # En caso contrario, recalculamos los centroides y pasamos a la siguiente iteración\n",
    "            clusters = new_clusters\n",
    "            centroids = recalculate_centroids(k, data_points, clusters)\n",
    "            centroid_list.append(centroids)\n",
    "    # Devolvemos los clusters de cada punto así como los k centroides en cada iteración\n",
    "    return new_clusters, np.array(centroid_list)"
   ]
  },
  {
   "cell_type": "markdown",
   "id": "bb230ee3",
   "metadata": {},
   "source": [
    "Una vez visto el funcionamiento del algoritmo, pasamos a llamarlo con los datos definidos."
   ]
  },
  {
   "cell_type": "code",
   "execution_count": 3,
   "id": "7ea6040a",
   "metadata": {},
   "outputs": [
    {
     "name": "stdout",
     "output_type": "stream",
     "text": [
      "Clústers formados ->\n"
     ]
    },
    {
     "data": {
      "text/html": [
       "<div>\n",
       "<style scoped>\n",
       "    .dataframe tbody tr th:only-of-type {\n",
       "        vertical-align: middle;\n",
       "    }\n",
       "\n",
       "    .dataframe tbody tr th {\n",
       "        vertical-align: top;\n",
       "    }\n",
       "\n",
       "    .dataframe thead th {\n",
       "        text-align: right;\n",
       "    }\n",
       "</style>\n",
       "<table border=\"1\" class=\"dataframe\">\n",
       "  <thead>\n",
       "    <tr style=\"text-align: right;\">\n",
       "      <th></th>\n",
       "      <th>Clúster</th>\n",
       "    </tr>\n",
       "  </thead>\n",
       "  <tbody>\n",
       "    <tr>\n",
       "      <th>A1</th>\n",
       "      <td>1</td>\n",
       "    </tr>\n",
       "    <tr>\n",
       "      <th>A2</th>\n",
       "      <td>3</td>\n",
       "    </tr>\n",
       "    <tr>\n",
       "      <th>A3</th>\n",
       "      <td>2</td>\n",
       "    </tr>\n",
       "    <tr>\n",
       "      <th>A4</th>\n",
       "      <td>1</td>\n",
       "    </tr>\n",
       "    <tr>\n",
       "      <th>A5</th>\n",
       "      <td>2</td>\n",
       "    </tr>\n",
       "    <tr>\n",
       "      <th>A6</th>\n",
       "      <td>2</td>\n",
       "    </tr>\n",
       "    <tr>\n",
       "      <th>A7</th>\n",
       "      <td>3</td>\n",
       "    </tr>\n",
       "    <tr>\n",
       "      <th>A8</th>\n",
       "      <td>1</td>\n",
       "    </tr>\n",
       "  </tbody>\n",
       "</table>\n",
       "</div>"
      ],
      "text/plain": [
       "    Clúster\n",
       "A1        1\n",
       "A2        3\n",
       "A3        2\n",
       "A4        1\n",
       "A5        2\n",
       "A6        2\n",
       "A7        3\n",
       "A8        1"
      ]
     },
     "execution_count": 3,
     "metadata": {},
     "output_type": "execute_result"
    }
   ],
   "source": [
    "import pandas as pd\n",
    "\n",
    "clusters, centroid_list = k_folds(3, data_points, centroids)\n",
    "print(f'Clústers formados ->')\n",
    "pd.DataFrame({\"Clúster\":(clusters+1)}, \n",
    "             index = [\"A\" + str(i) for i in range(1, data_points.shape[0]+1)])"
   ]
  },
  {
   "cell_type": "code",
   "execution_count": 4,
   "id": "80f1b9fb",
   "metadata": {},
   "outputs": [
    {
     "name": "stdout",
     "output_type": "stream",
     "text": [
      "Centroides en la iteración 0 ->\n",
      " [[ 2. 10.]\n",
      " [ 8.  4.]\n",
      " [ 5.  8.]]\n",
      "\n",
      "Centroides en la iteración 1 ->\n",
      " [[ 2.         10.        ]\n",
      " [ 7.          4.33333333]\n",
      " [ 3.          6.        ]]\n",
      "\n",
      "Centroides en la iteración 2 ->\n",
      " [[3.         9.5       ]\n",
      " [7.         4.33333333]\n",
      " [2.66666667 5.        ]]\n",
      "\n",
      "Centroides en la iteración 3 ->\n",
      " [[3.66666667 9.        ]\n",
      " [7.         4.33333333]\n",
      " [1.5        3.5       ]]\n",
      "\n"
     ]
    }
   ],
   "source": [
    "for centroid, i  in zip(centroid_list, range(centroid_list.shape[0])):\n",
    "    print(f'Centroides en la iteración {i} ->\\n {centroid}\\n')"
   ]
  },
  {
   "cell_type": "markdown",
   "id": "4072f8c8",
   "metadata": {},
   "source": [
    "Mostramos a continuación la implementación de la función ``SSE`` que, como su nombre indica, nos permite calcular el valor de la métrica SSE de los resultados obtenidos."
   ]
  },
  {
   "cell_type": "code",
   "execution_count": 5,
   "id": "5a65d44e",
   "metadata": {},
   "outputs": [
    {
     "name": "stdout",
     "output_type": "stream",
     "text": [
      "SSE = 14.333333333333332\n"
     ]
    }
   ],
   "source": [
    "def SSE(data_points, centroids, clusters):\n",
    "    aux_arr = np.array([centroids[i] for i in clusters])\n",
    "    diff = data_points - aux_arr\n",
    "    return np.sum(np.square(diff))\n",
    "\n",
    "print(f'SSE = {SSE(data_points, centroid_list[-1, :], clusters)}')"
   ]
  },
  {
   "cell_type": "markdown",
   "id": "07efbd27",
   "metadata": {},
   "source": [
    "Pasamos a calcular los *K-Folds* para el conjunto de datos y centroides inciales, del problema visto en la lección 5."
   ]
  },
  {
   "cell_type": "code",
   "execution_count": 6,
   "id": "2d27f0c8",
   "metadata": {
    "scrolled": true
   },
   "outputs": [
    {
     "name": "stdout",
     "output_type": "stream",
     "text": [
      "Clústers formados ->\n"
     ]
    },
    {
     "data": {
      "text/html": [
       "<div>\n",
       "<style scoped>\n",
       "    .dataframe tbody tr th:only-of-type {\n",
       "        vertical-align: middle;\n",
       "    }\n",
       "\n",
       "    .dataframe tbody tr th {\n",
       "        vertical-align: top;\n",
       "    }\n",
       "\n",
       "    .dataframe thead th {\n",
       "        text-align: right;\n",
       "    }\n",
       "</style>\n",
       "<table border=\"1\" class=\"dataframe\">\n",
       "  <thead>\n",
       "    <tr style=\"text-align: right;\">\n",
       "      <th></th>\n",
       "      <th>Clúster</th>\n",
       "    </tr>\n",
       "  </thead>\n",
       "  <tbody>\n",
       "    <tr>\n",
       "      <th>A1</th>\n",
       "      <td>1</td>\n",
       "    </tr>\n",
       "    <tr>\n",
       "      <th>A2</th>\n",
       "      <td>3</td>\n",
       "    </tr>\n",
       "    <tr>\n",
       "      <th>A3</th>\n",
       "      <td>2</td>\n",
       "    </tr>\n",
       "    <tr>\n",
       "      <th>A4</th>\n",
       "      <td>1</td>\n",
       "    </tr>\n",
       "    <tr>\n",
       "      <th>A5</th>\n",
       "      <td>2</td>\n",
       "    </tr>\n",
       "    <tr>\n",
       "      <th>A6</th>\n",
       "      <td>2</td>\n",
       "    </tr>\n",
       "    <tr>\n",
       "      <th>A7</th>\n",
       "      <td>3</td>\n",
       "    </tr>\n",
       "    <tr>\n",
       "      <th>A8</th>\n",
       "      <td>1</td>\n",
       "    </tr>\n",
       "  </tbody>\n",
       "</table>\n",
       "</div>"
      ],
      "text/plain": [
       "    Clúster\n",
       "A1        1\n",
       "A2        3\n",
       "A3        2\n",
       "A4        1\n",
       "A5        2\n",
       "A6        2\n",
       "A7        3\n",
       "A8        1"
      ]
     },
     "execution_count": 6,
     "metadata": {},
     "output_type": "execute_result"
    }
   ],
   "source": [
    "centroids = np.array([[2, 10], [5, 8], [1, 2]])\n",
    "data_points = np.array([[2, 10], [2, 5], [8, 4], \n",
    "                        [5, 8], [7, 5], [6, 4], \n",
    "                        [1, 2], [4, 9]])\n",
    "\n",
    "clusters, centroid_list = k_folds(3, data_points, centroids)\n",
    "print(f'Clústers formados ->')\n",
    "pd.DataFrame({\"Clúster\":(clusters+1)}, \n",
    "             index = [\"A\" + str(i) for i in range(1, data_points.shape[0]+1)])"
   ]
  },
  {
   "cell_type": "code",
   "execution_count": 7,
   "id": "02a4c8a1",
   "metadata": {},
   "outputs": [
    {
     "name": "stdout",
     "output_type": "stream",
     "text": [
      "Centroides en la iteración 0 ->\n",
      " [[ 2. 10.]\n",
      " [ 5.  8.]\n",
      " [ 1.  2.]]\n",
      "\n",
      "Centroides en la iteración 1 ->\n",
      " [[ 2.  10. ]\n",
      " [ 6.   6. ]\n",
      " [ 1.5  3.5]]\n",
      "\n",
      "Centroides en la iteración 2 ->\n",
      " [[3.   9.5 ]\n",
      " [6.5  5.25]\n",
      " [1.5  3.5 ]]\n",
      "\n",
      "Centroides en la iteración 3 ->\n",
      " [[3.66666667 9.        ]\n",
      " [7.         4.33333333]\n",
      " [1.5        3.5       ]]\n",
      "\n"
     ]
    }
   ],
   "source": [
    "for centroid, i  in zip(centroid_list, range(centroid_list.shape[0])):\n",
    "    print(f'Centroides en la iteración {i} ->\\n {centroid}\\n')"
   ]
  },
  {
   "cell_type": "code",
   "execution_count": 8,
   "id": "b1be9c64",
   "metadata": {},
   "outputs": [
    {
     "name": "stdout",
     "output_type": "stream",
     "text": [
      "SSE = 14.333333333333332\n"
     ]
    }
   ],
   "source": [
    "print(f'SSE = {SSE(data_points, centroid_list[-1, :], clusters)}')"
   ]
  },
  {
   "cell_type": "markdown",
   "id": "c9eb10bc",
   "metadata": {},
   "source": [
    "Como puede observarse de los resultados obtenidos, vemos como a pesar de usar el mismo conjunto de puntos, se obtienen resultados diferentes. Esto nos permite ver como, efectivamente, la elección de los centroides iniciales resulta clave en los resultados que arroja el problema y, en ciertas circustancias, esto puede resultar contraproducente.  "
   ]
  },
  {
   "cell_type": "markdown",
   "id": "565bc640",
   "metadata": {},
   "source": [
    "# Problema II"
   ]
  },
  {
   "cell_type": "markdown",
   "id": "d0e0fb1d",
   "metadata": {},
   "source": [
    "Antes de comenzar con el agrupamiento jerárquico que propone este ejercicio, vamos a escribir dos funciones que nos van a permitir medir distáncias entre clusters. En concreto, implementaremos el enlace simple (*simple linkage*) y el enlace completo (*complete linkage*)."
   ]
  },
  {
   "cell_type": "code",
   "execution_count": 9,
   "id": "edb95cda",
   "metadata": {},
   "outputs": [],
   "source": [
    "def simple_linkage(c1, c2, distance):\n",
    "    distances = np.array([[distance[x1, x2] for x1 in c1] for x2 in c2])\n",
    "    return np.min(distances)\n",
    "\n",
    "def complete_linkage(c1, c2, distance):\n",
    "    distances = np.array([[distance[x1, x2] for x1 in c1] for x2 in c2])\n",
    "    return np.max(distances)"
   ]
  },
  {
   "cell_type": "markdown",
   "id": "2740c67e",
   "metadata": {},
   "source": [
    "Una vez implementadas las funciones de distancia, pasamos a implementar el algoritmo que partirá de una matriz de distáncias entre puntos."
   ]
  },
  {
   "cell_type": "code",
   "execution_count": 10,
   "id": "d873f798",
   "metadata": {},
   "outputs": [],
   "source": [
    "def hierarchical_clustering(matrix, simple = True):\n",
    "    # Implementamos un clustering jerárquico y aglomerativo, es decir,\n",
    "    # partiremos de un clúster por cada patrón y, en cada paso, fusionaremos los\n",
    "    # clústers más cercanos. El parámetro booleano simple nos permite controlar\n",
    "    # si se usará simple_linkage o complete_linkage como función de distancia.\n",
    "    if simple:\n",
    "        link_func = simple_linkage\n",
    "    else:\n",
    "        link_func = complete_linkage\n",
    "    # Comenzamos generando un clúster por punto\n",
    "    clusters = [[i] for i in range(matrix.shape[0])]\n",
    "    # Generamos una lista de clusters que nos permite controlar la evolución\n",
    "    # de los mismos durante las iteraciones\n",
    "    clusters_list = [clusters.copy()]\n",
    "    # Creamos una copia de la matriz que modificaremos en cada iteración\n",
    "    aux_mat = matrix.copy()\n",
    "    while len(clusters) > 1:\n",
    "        # Calculamos la distancia entre todos los clusters\n",
    "        dist_clusters = np.array([[link_func(c1, c2, matrix) for c2 in clusters] for c1 in clusters], dtype = float)\n",
    "        # Reemplazamos los valores 0 (correspondientes a la distáncia de un clúster consigo mismo)\n",
    "        # por infinito (np.inf)\n",
    "        np.fill_diagonal(dist_clusters, np.inf)\n",
    "        # Obtenemos las coordenadas del mínimo (es decir, fila y columna en la matriz)\n",
    "        min_coord_x, min_coord_y = np.unravel_index(dist_clusters.argmin(), dist_clusters.shape)\n",
    "        actual_x = set(clusters[min_coord_x])\n",
    "        actual_y = set(clusters[min_coord_y])\n",
    "        # Obtenemos de nuevo el listado de clusters\n",
    "        sub_list_x = [x for x in clusters if actual_x <= set(x)][0]\n",
    "        sub_list_y = [y for y in clusters if actual_y <= set(y)][0]\n",
    "        clusters.remove(sub_list_x)\n",
    "        if sub_list_y in clusters: \n",
    "            clusters.remove(sub_list_y)\n",
    "        clusters.append(list(set(sub_list_x + sub_list_y)))\n",
    "        clusters_list.append(clusters.copy())\n",
    "    return clusters_list"
   ]
  },
  {
   "cell_type": "code",
   "execution_count": 11,
   "id": "1a2535d6",
   "metadata": {},
   "outputs": [
    {
     "data": {
      "text/plain": [
       "array([[ 0,  1,  2,  9, 10],\n",
       "       [ 1,  0,  3,  7,  5],\n",
       "       [ 2,  3,  0,  4,  6],\n",
       "       [ 9,  7,  4,  0,  8],\n",
       "       [10,  5,  6,  8,  0]])"
      ]
     },
     "execution_count": 11,
     "metadata": {},
     "output_type": "execute_result"
    }
   ],
   "source": [
    "matrix = np.array([[0, 1, 2, 9, 10], [1, 0, 3, 7, 5], [2, 3, 0, 4, 6], \n",
    "                   [9, 7, 4, 0, 8], [10, 5, 6, 8, 0]])\n",
    "#matrix = np.array([[0, 1, 4, 5], [1, 0, 2, 6], [4, 2, 0, 3], [5, 6, 3, 0]])\n",
    "matrix"
   ]
  },
  {
   "cell_type": "code",
   "execution_count": 12,
   "id": "066a1959",
   "metadata": {
    "scrolled": false
   },
   "outputs": [
    {
     "name": "stdout",
     "output_type": "stream",
     "text": [
      "Clusters generados con enlace Simple\n",
      "Iteración 0 -> [['A'], ['B'], ['C'], ['D'], ['E']]\n",
      "Iteración 1 -> [['C'], ['D'], ['E'], ['A', 'B']]\n",
      "Iteración 2 -> [['D'], ['E'], ['A', 'B', 'C']]\n",
      "Iteración 3 -> [['E'], ['A', 'B', 'C', 'D']]\n",
      "Iteración 4 -> [['A', 'B', 'C', 'D', 'E']]\n"
     ]
    }
   ],
   "source": [
    "cluster_list_1 = hierarchical_clustering(matrix, simple = True)\n",
    "aux_map = {0:'A', 1:'B', 2:'C', 3:'D', 4:'E'}\n",
    "cluster_list_letter = [[[aux_map.get(x) for x in clust] \n",
    "                        for clust in clust_iter] \n",
    "                       for clust_iter in cluster_list_1]\n",
    "print('Clusters generados con enlace Simple')\n",
    "for cluster, i in zip(cluster_list_letter, range(len(cluster_list_letter))):\n",
    "    print(f'Iteración {i} -> {cluster}')"
   ]
  },
  {
   "cell_type": "code",
   "execution_count": 13,
   "id": "2c75a205",
   "metadata": {},
   "outputs": [
    {
     "name": "stdout",
     "output_type": "stream",
     "text": [
      "Clusters generados con enlace completo\n",
      "\n",
      "Iteración 0 -> [['A'], ['B'], ['C'], ['D'], ['E']]\n",
      "Iteración 1 -> [['C'], ['D'], ['E'], ['A', 'B']]\n",
      "Iteración 2 -> [['D'], ['E'], ['A', 'B', 'C']]\n",
      "Iteración 3 -> [['A', 'B', 'C'], ['D', 'E']]\n",
      "Iteración 4 -> [['A', 'B', 'C', 'D', 'E']]\n"
     ]
    }
   ],
   "source": [
    "cluster_list_1 = hierarchical_clustering(matrix, simple = False)\n",
    "cluster_list_letter = [[[aux_map.get(x) for x in clust] \n",
    "                        for clust in clust_iter] \n",
    "                       for clust_iter in cluster_list_1]\n",
    "print('Clusters generados con enlace completo\\n')\n",
    "for cluster, i in zip(cluster_list_letter, range(len(cluster_list_letter))):\n",
    "    print(f'Iteración {i} -> {cluster}')"
   ]
  },
  {
   "cell_type": "markdown",
   "id": "480b36a3",
   "metadata": {},
   "source": [
    "Vemos que, el hecho de utilizar enlazado simple o completo, nos genera una discrepancia en la tercera iteración. Este discrepancia se traduce en un dendograma diferente en función del método que utilicemos."
   ]
  },
  {
   "cell_type": "markdown",
   "id": "a0273705",
   "metadata": {},
   "source": [
    "# Problema III"
   ]
  },
  {
   "cell_type": "markdown",
   "id": "e2bb28c8",
   "metadata": {},
   "source": [
    "Para este problema, se nos solicitaba partir de los datos del problema I (usaremos la misma definición que se expuso para ese mismo problema) y aplicar el algoritmo DBSCAN con los siguientes parámetros:\n",
    "\n",
    "- $M = 3$ y $\\epsilon = \\sqrt{2}$\n",
    "- $M = 3$ y $\\epsilon = \\sqrt{10}$\n",
    "\n",
    "Mostramos a continuación la implementación del algoritmo *DBSCAN* con una serie de comentarios explicativos para su mejor comprensión."
   ]
  },
  {
   "cell_type": "code",
   "execution_count": 14,
   "id": "a1d7b3b0",
   "metadata": {},
   "outputs": [],
   "source": [
    "# La función get_clusters_dbscan recibe como argumentos, \n",
    "# el conjunto de datos (data_points), el número mínimo de puntos M y\n",
    "# el radio de cada cluster (eps)\n",
    "def get_clusters_dbscan(data_points, M, eps):\n",
    "    # Inicializamos una lísta vacía que contendrá todos los clústers\n",
    "    # que resulten del proceso\n",
    "    clusters = []\n",
    "    # Comenzamos iterando sobre cada punto del conjunto de datos\n",
    "    for point in data_points:\n",
    "        # Para cada punto, calculamos la distáncia euclídea con el resto.\n",
    "        distances = euclidean(point, data_points)\n",
    "        # Nos quedamos con aquellos puntos qu estén más cercanos que eps\n",
    "        close = np.where(distances <= eps)[0]\n",
    "        # Si el número de puntos obtenidos, es mayor o igual al número mínimo M\n",
    "        if len(close) >= M:\n",
    "            # Examinamos si el \"clúster\" definido por el punto actual (point)\n",
    "            # contiene puntos ya incluidos en alguno de los clústers obtenidos \n",
    "            # en iteraciones anteriores. En caso afirmativo, \"fusionamos\" ambos \n",
    "            # conjuntos en un único clúster. Hacemos uso de sets para evitar\n",
    "            # la repetición de elementos. En caso negativo, el cluster se incluye en la\n",
    "            # lista \"clusters\"\n",
    "            aux_set = set(close)\n",
    "            added = False\n",
    "            for i in range(len(clusters)):\n",
    "                if aux_set & clusters[i] != set():\n",
    "                    clusters[i] = clusters[i] | aux_set\n",
    "                    added = True\n",
    "                    break\n",
    "            if not added:\n",
    "                clusters.append(aux_set)\n",
    "            print(clusters)\n",
    "    # Devolvemos la lista de clústers\n",
    "    return clusters"
   ]
  },
  {
   "cell_type": "markdown",
   "id": "07405aa1",
   "metadata": {},
   "source": [
    "Una vez vista la implementación del algoritmo, pasamos a ejecutarlo con los datos correspondientes."
   ]
  },
  {
   "cell_type": "code",
   "execution_count": 15,
   "id": "f571d198",
   "metadata": {},
   "outputs": [
    {
     "name": "stdout",
     "output_type": "stream",
     "text": [
      "[{2, 4}]\n",
      "[{2, 4}, {3, 7}]\n",
      "[{2, 4, 5}, {3, 7}]\n",
      "[{2, 4, 5}, {3, 7}]\n",
      "[{2, 4, 5}, {3, 7}]\n",
      "[{0, 7}]\n",
      "[{0, 7}, {1, 6}]\n",
      "[{0, 7}, {1, 6}, {2, 4, 5}]\n",
      "[{0, 3, 7}, {1, 6}, {2, 4, 5}]\n",
      "[{0, 3, 7}, {1, 6}, {2, 4, 5}]\n",
      "[{0, 3, 7}, {1, 6}, {2, 4, 5}]\n",
      "[{0, 3, 7}, {1, 6}, {2, 4, 5}]\n",
      "[{0, 3, 7}, {1, 6}, {2, 4, 5}]\n"
     ]
    }
   ],
   "source": [
    "M1, M2 = 2, 2\n",
    "eps1, eps2 = np.sqrt(2), np.sqrt(10)\n",
    "clusters_1 = get_clusters_dbscan(data_points, M1, eps1)\n",
    "clusters_2 = get_clusters_dbscan(data_points, M2, eps2)"
   ]
  },
  {
   "cell_type": "markdown",
   "id": "93a9fe09",
   "metadata": {},
   "source": [
    "Para una correcta interpretación de los resultados, debemos tener en cuenta que, si un punto no se ha situado en ningún clúster, aparecerá con el valor reservado ``NaN`` en el *DataFrame* que mostaremos a continuación."
   ]
  },
  {
   "cell_type": "code",
   "execution_count": 16,
   "id": "72c5cd80",
   "metadata": {},
   "outputs": [
    {
     "name": "stdout",
     "output_type": "stream",
     "text": [
      "Resultados con M = 2 y epsilon = 1.4142135623730951\n"
     ]
    },
    {
     "data": {
      "text/html": [
       "<div>\n",
       "<style scoped>\n",
       "    .dataframe tbody tr th:only-of-type {\n",
       "        vertical-align: middle;\n",
       "    }\n",
       "\n",
       "    .dataframe tbody tr th {\n",
       "        vertical-align: top;\n",
       "    }\n",
       "\n",
       "    .dataframe thead th {\n",
       "        text-align: right;\n",
       "    }\n",
       "</style>\n",
       "<table border=\"1\" class=\"dataframe\">\n",
       "  <thead>\n",
       "    <tr style=\"text-align: right;\">\n",
       "      <th></th>\n",
       "      <th>Clúster</th>\n",
       "    </tr>\n",
       "  </thead>\n",
       "  <tbody>\n",
       "    <tr>\n",
       "      <th>A1</th>\n",
       "      <td>NaN</td>\n",
       "    </tr>\n",
       "    <tr>\n",
       "      <th>A2</th>\n",
       "      <td>NaN</td>\n",
       "    </tr>\n",
       "    <tr>\n",
       "      <th>A3</th>\n",
       "      <td>1.0</td>\n",
       "    </tr>\n",
       "    <tr>\n",
       "      <th>A4</th>\n",
       "      <td>2.0</td>\n",
       "    </tr>\n",
       "    <tr>\n",
       "      <th>A5</th>\n",
       "      <td>1.0</td>\n",
       "    </tr>\n",
       "    <tr>\n",
       "      <th>A6</th>\n",
       "      <td>1.0</td>\n",
       "    </tr>\n",
       "    <tr>\n",
       "      <th>A7</th>\n",
       "      <td>NaN</td>\n",
       "    </tr>\n",
       "    <tr>\n",
       "      <th>A8</th>\n",
       "      <td>2.0</td>\n",
       "    </tr>\n",
       "  </tbody>\n",
       "</table>\n",
       "</div>"
      ],
      "text/plain": [
       "    Clúster\n",
       "A1      NaN\n",
       "A2      NaN\n",
       "A3      1.0\n",
       "A4      2.0\n",
       "A5      1.0\n",
       "A6      1.0\n",
       "A7      NaN\n",
       "A8      2.0"
      ]
     },
     "execution_count": 16,
     "metadata": {},
     "output_type": "execute_result"
    }
   ],
   "source": [
    "clusters_aux = np.full(shape = (data_points.shape[0], ), fill_value = np.nan)\n",
    "for cluster, i in zip(clusters_1, range(len(clusters_1))):\n",
    "    clusters_aux[list(cluster)] = i\n",
    "\n",
    "print(f'Resultados con M = {M1} y epsilon = {eps1}')\n",
    "pd.DataFrame({\"Clúster\":(clusters_aux+1)}, \n",
    "             index = [\"A\" + str(i) for i in range(1, data_points.shape[0]+1)])"
   ]
  },
  {
   "cell_type": "code",
   "execution_count": 17,
   "id": "33fdd115",
   "metadata": {},
   "outputs": [
    {
     "name": "stdout",
     "output_type": "stream",
     "text": [
      "Resultados con M = 2 y epsilon = 3.1622776601683795\n"
     ]
    },
    {
     "data": {
      "text/html": [
       "<div>\n",
       "<style scoped>\n",
       "    .dataframe tbody tr th:only-of-type {\n",
       "        vertical-align: middle;\n",
       "    }\n",
       "\n",
       "    .dataframe tbody tr th {\n",
       "        vertical-align: top;\n",
       "    }\n",
       "\n",
       "    .dataframe thead th {\n",
       "        text-align: right;\n",
       "    }\n",
       "</style>\n",
       "<table border=\"1\" class=\"dataframe\">\n",
       "  <thead>\n",
       "    <tr style=\"text-align: right;\">\n",
       "      <th></th>\n",
       "      <th>Clúster</th>\n",
       "    </tr>\n",
       "  </thead>\n",
       "  <tbody>\n",
       "    <tr>\n",
       "      <th>A1</th>\n",
       "      <td>1.0</td>\n",
       "    </tr>\n",
       "    <tr>\n",
       "      <th>A2</th>\n",
       "      <td>2.0</td>\n",
       "    </tr>\n",
       "    <tr>\n",
       "      <th>A3</th>\n",
       "      <td>3.0</td>\n",
       "    </tr>\n",
       "    <tr>\n",
       "      <th>A4</th>\n",
       "      <td>1.0</td>\n",
       "    </tr>\n",
       "    <tr>\n",
       "      <th>A5</th>\n",
       "      <td>3.0</td>\n",
       "    </tr>\n",
       "    <tr>\n",
       "      <th>A6</th>\n",
       "      <td>3.0</td>\n",
       "    </tr>\n",
       "    <tr>\n",
       "      <th>A7</th>\n",
       "      <td>2.0</td>\n",
       "    </tr>\n",
       "    <tr>\n",
       "      <th>A8</th>\n",
       "      <td>1.0</td>\n",
       "    </tr>\n",
       "  </tbody>\n",
       "</table>\n",
       "</div>"
      ],
      "text/plain": [
       "    Clúster\n",
       "A1      1.0\n",
       "A2      2.0\n",
       "A3      3.0\n",
       "A4      1.0\n",
       "A5      3.0\n",
       "A6      3.0\n",
       "A7      2.0\n",
       "A8      1.0"
      ]
     },
     "execution_count": 17,
     "metadata": {},
     "output_type": "execute_result"
    }
   ],
   "source": [
    "clusters_aux = np.full(shape = (data_points.shape[0], ), fill_value = np.nan)\n",
    "for cluster, i in zip(clusters_2, range(len(clusters_2))):\n",
    "    clusters_aux[list(cluster)] = i\n",
    "\n",
    "print(f'Resultados con M = {M2} y epsilon = {eps2}')\n",
    "pd.DataFrame({\"Clúster\":(clusters_aux+1)}, \n",
    "             index = [\"A\" + str(i) for i in range(1, data_points.shape[0]+1)])"
   ]
  },
  {
   "cell_type": "code",
   "execution_count": null,
   "id": "73fdf78b",
   "metadata": {},
   "outputs": [],
   "source": []
  }
 ],
 "metadata": {
  "kernelspec": {
   "display_name": "Python 3.10.4 64-bit",
   "language": "python",
   "name": "python3"
  },
  "language_info": {
   "codemirror_mode": {
    "name": "ipython",
    "version": 3
   },
   "file_extension": ".py",
   "mimetype": "text/x-python",
   "name": "python",
   "nbconvert_exporter": "python",
   "pygments_lexer": "ipython3",
   "version": "3.10.4"
  },
  "vscode": {
   "interpreter": {
    "hash": "12749f567798517b8543354a13719bbd42e9e3e56a89ba27a040f4f72d5c2230"
   }
  }
 },
 "nbformat": 4,
 "nbformat_minor": 5
}
